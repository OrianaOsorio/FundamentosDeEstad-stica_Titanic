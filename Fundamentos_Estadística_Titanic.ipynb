{
 "cells": [
  {
   "cell_type": "markdown",
   "metadata": {
    "colab_type": "text",
    "id": "view-in-github"
   },
   "source": [
    "<a href=\"https://colab.research.google.com/github/LinaTobon/Intro_Estadistica/blob/main/Fundamentos_Estad%C3%ADstica.ipynb\" target=\"_parent\"><img src=\"https://colab.research.google.com/assets/colab-badge.svg\" alt=\"Open In Colab\"/></a>"
   ]
  },
  {
   "cell_type": "markdown",
   "metadata": {
    "id": "HY8fYG-Psm4r"
   },
   "source": [
    "# **Fundamentos de estadística**\n",
    "En este taller vamos a explicar los siguientes conceptos básicos de estadística, para que puedas interpretar mejor tus datos.\n",
    "\n",
    "*   Tipos de datos\n",
    "*   Medidas de tendencia central\n",
    "*   Medidas de variabilidad\n",
    "\n",
    "Vamos a usar el famoso dataset del [titanic](https://www.kaggle.com/c/titanic/data) para poner en práctica nuestros conocimientos\n"
   ]
  },
  {
   "cell_type": "markdown",
   "metadata": {
    "id": "eE-QUSzJts-4"
   },
   "source": [
    "Los campos o columnas que contiene el dataset son las siguientes:\n",
    "- PassengerId -- un id numérico asignado a cada pasajero.\n",
    "- Survived -- si el pasajero sobrevivió (1), si no sobrevivió (0).\n",
    "- Pclass -- La clase en la que estaba el pasajero.\n",
    "- Name -- el nombre del pasajero.\n",
    "- Sex -- género del pasajero.\n",
    "- Age -- edad del pasajero.\n",
    "- SibSp -- número de hermanos y conyugues que el pasajero tenía a bordo.\n",
    "- Parch -- número de padres e hijos que el pasajero tenía a bordo.\n",
    "- Ticket -- número del tiquete del pasajero.\n",
    "- Fare -- precio del tiquete.\n",
    "- Cabin -- en qué cabina estaba ubicado el pasajero.\n",
    "- Embarked -- lugar de embarque del pasajero."
   ]
  },
  {
   "cell_type": "code",
   "execution_count": null,
   "metadata": {
    "colab": {
     "base_uri": "https://localhost:8080/"
    },
    "id": "NzFXQXtuv6U_",
    "outputId": "71a09c7c-4f18-4018-b8f2-4c2347a20a3a"
   },
   "outputs": [
    {
     "name": "stdout",
     "output_type": "stream",
     "text": [
      "Mounted at /content/drive\n"
     ]
    }
   ],
   "source": [
    "from google.colab import drive\n",
    "drive.mount('/content/drive',force_remount=True)"
   ]
  },
  {
   "cell_type": "code",
   "execution_count": null,
   "metadata": {
    "id": "RLuzsFYyvha_"
   },
   "outputs": [],
   "source": [
    "# Importando librerias\n",
    "import numpy as np\n",
    "import pandas as pd\n",
    "import seaborn as sns\n",
    "import matplotlib.pyplot as plt\n",
    "import warnings\n",
    "from scipy import stats\n",
    "warnings.filterwarnings(\"ignore\")\n",
    "%matplotlib inline"
   ]
  },
  {
   "cell_type": "code",
   "execution_count": null,
   "metadata": {
    "id": "vs7F2lo-_H1m"
   },
   "outputs": [],
   "source": [
    "# Cargamos el archivo\n",
    "titanic = pd.read_csv(\"train.csv\")"
   ]
  },
  {
   "cell_type": "markdown",
   "metadata": {
    "id": "P62N8Ore8ix1"
   },
   "source": [
    "# Exploremos nuestro dataset"
   ]
  },
  {
   "cell_type": "code",
   "execution_count": null,
   "metadata": {
    "colab": {
     "base_uri": "https://localhost:8080/",
     "height": 255
    },
    "id": "K8I83gcHziQQ",
    "outputId": "a5519eff-bc0d-47f9-ba5a-578b39672fa0"
   },
   "outputs": [
    {
     "data": {
      "text/html": [
       "<div>\n",
       "<style scoped>\n",
       "    .dataframe tbody tr th:only-of-type {\n",
       "        vertical-align: middle;\n",
       "    }\n",
       "\n",
       "    .dataframe tbody tr th {\n",
       "        vertical-align: top;\n",
       "    }\n",
       "\n",
       "    .dataframe thead th {\n",
       "        text-align: right;\n",
       "    }\n",
       "</style>\n",
       "<table border=\"1\" class=\"dataframe\">\n",
       "  <thead>\n",
       "    <tr style=\"text-align: right;\">\n",
       "      <th></th>\n",
       "      <th>PassengerId</th>\n",
       "      <th>Survived</th>\n",
       "      <th>Pclass</th>\n",
       "      <th>Name</th>\n",
       "      <th>Sex</th>\n",
       "      <th>Age</th>\n",
       "      <th>SibSp</th>\n",
       "      <th>Parch</th>\n",
       "      <th>Ticket</th>\n",
       "      <th>Fare</th>\n",
       "      <th>Cabin</th>\n",
       "      <th>Embarked</th>\n",
       "    </tr>\n",
       "  </thead>\n",
       "  <tbody>\n",
       "    <tr>\n",
       "      <th>15</th>\n",
       "      <td>16</td>\n",
       "      <td>1</td>\n",
       "      <td>2</td>\n",
       "      <td>Hewlett, Mrs. (Mary D Kingcome)</td>\n",
       "      <td>female</td>\n",
       "      <td>55.0</td>\n",
       "      <td>0</td>\n",
       "      <td>0</td>\n",
       "      <td>248706</td>\n",
       "      <td>16.0000</td>\n",
       "      <td>NaN</td>\n",
       "      <td>S</td>\n",
       "    </tr>\n",
       "    <tr>\n",
       "      <th>122</th>\n",
       "      <td>123</td>\n",
       "      <td>0</td>\n",
       "      <td>2</td>\n",
       "      <td>Nasser, Mr. Nicholas</td>\n",
       "      <td>male</td>\n",
       "      <td>32.5</td>\n",
       "      <td>1</td>\n",
       "      <td>0</td>\n",
       "      <td>237736</td>\n",
       "      <td>30.0708</td>\n",
       "      <td>NaN</td>\n",
       "      <td>C</td>\n",
       "    </tr>\n",
       "    <tr>\n",
       "      <th>727</th>\n",
       "      <td>728</td>\n",
       "      <td>1</td>\n",
       "      <td>3</td>\n",
       "      <td>Mannion, Miss. Margareth</td>\n",
       "      <td>female</td>\n",
       "      <td>NaN</td>\n",
       "      <td>0</td>\n",
       "      <td>0</td>\n",
       "      <td>36866</td>\n",
       "      <td>7.7375</td>\n",
       "      <td>NaN</td>\n",
       "      <td>Q</td>\n",
       "    </tr>\n",
       "    <tr>\n",
       "      <th>304</th>\n",
       "      <td>305</td>\n",
       "      <td>0</td>\n",
       "      <td>3</td>\n",
       "      <td>Williams, Mr. Howard Hugh \"Harry\"</td>\n",
       "      <td>male</td>\n",
       "      <td>NaN</td>\n",
       "      <td>0</td>\n",
       "      <td>0</td>\n",
       "      <td>A/5 2466</td>\n",
       "      <td>8.0500</td>\n",
       "      <td>NaN</td>\n",
       "      <td>S</td>\n",
       "    </tr>\n",
       "    <tr>\n",
       "      <th>498</th>\n",
       "      <td>499</td>\n",
       "      <td>0</td>\n",
       "      <td>1</td>\n",
       "      <td>Allison, Mrs. Hudson J C (Bessie Waldo Daniels)</td>\n",
       "      <td>female</td>\n",
       "      <td>25.0</td>\n",
       "      <td>1</td>\n",
       "      <td>2</td>\n",
       "      <td>113781</td>\n",
       "      <td>151.5500</td>\n",
       "      <td>C22 C26</td>\n",
       "      <td>S</td>\n",
       "    </tr>\n",
       "  </tbody>\n",
       "</table>\n",
       "</div>"
      ],
      "text/plain": [
       "     PassengerId  Survived  Pclass  ...      Fare    Cabin  Embarked\n",
       "15            16         1       2  ...   16.0000      NaN         S\n",
       "122          123         0       2  ...   30.0708      NaN         C\n",
       "727          728         1       3  ...    7.7375      NaN         Q\n",
       "304          305         0       3  ...    8.0500      NaN         S\n",
       "498          499         0       1  ...  151.5500  C22 C26         S\n",
       "\n",
       "[5 rows x 12 columns]"
      ]
     },
     "execution_count": 55,
     "metadata": {
      "tags": []
     },
     "output_type": "execute_result"
    }
   ],
   "source": [
    "# Visualizamos 5 filas del titanic\n",
    "titanic.sample(5)"
   ]
  },
  {
   "cell_type": "markdown",
   "metadata": {
    "id": "32hmNKMuDmMv"
   },
   "source": [
    "Conclusiones\n",
    "* Tiquete tiene una mezcla de datos numéricos y  alfanumericos.\n",
    "* Cabina es alfanumerico"
   ]
  },
  {
   "cell_type": "code",
   "execution_count": null,
   "metadata": {
    "id": "O0qW25ByZaLl"
   },
   "outputs": [],
   "source": [
    "# Vamos a renombrar las columnas, para traducirlas a español\n",
    "esp_colum ={'PassengerId':'IdPasajero','Survived':'Sobrevivio','Pclass':'Clase',\\\n",
    "           'Name':'Nombre','Sex':'Genero','Age':'Edad','SibSp':'HermEsp','Parch':'PadresHijos',\\\n",
    "           'Ticket':'Tiquete','Fare':'Precio','Cabin':'Cabina','Embarked':'Embarque'}\n",
    "titanic.rename(columns=esp_colum,inplace=True)"
   ]
  },
  {
   "cell_type": "markdown",
   "metadata": {
    "id": "ClsZ0f0n_cmS"
   },
   "source": [
    "### Conozcamos los campos del dataset\n",
    "\n",
    "*   ¿Cuántos registros tiene el dataset?\n",
    "    *El dataset tiene 890 entradas o registros*\n",
    "*   ¿Qué columnas tienen registros vacíos?\n",
    "    *Edad,Cabina y Embarque tienen registros vacíos*\n",
    "*   ¿Qué tipos de datos que tiene nuestro dataset?\n",
    "    *Cinco campos son enteros, 2 tienen decimales (float). Cinco campos son strings (object)*\n",
    "\n"
   ]
  },
  {
   "cell_type": "code",
   "execution_count": null,
   "metadata": {
    "colab": {
     "base_uri": "https://localhost:8080/"
    },
    "id": "mgKPw8Cu1aRw",
    "outputId": "94d48082-d624-479d-a4da-355bd8403979"
   },
   "outputs": [
    {
     "name": "stdout",
     "output_type": "stream",
     "text": [
      "<class 'pandas.core.frame.DataFrame'>\n",
      "RangeIndex: 891 entries, 0 to 890\n",
      "Data columns (total 12 columns):\n",
      " #   Column       Non-Null Count  Dtype  \n",
      "---  ------       --------------  -----  \n",
      " 0   IdPasajero   891 non-null    int64  \n",
      " 1   Sobrevivio   891 non-null    int64  \n",
      " 2   Clase        891 non-null    int64  \n",
      " 3   Nombre       891 non-null    object \n",
      " 4   Genero       891 non-null    object \n",
      " 5   Edad         714 non-null    float64\n",
      " 6   HermEsp      891 non-null    int64  \n",
      " 7   PadresHijos  891 non-null    int64  \n",
      " 8   Tiquete      891 non-null    object \n",
      " 9   Precio       891 non-null    float64\n",
      " 10  Cabina       204 non-null    object \n",
      " 11  Embarque     889 non-null    object \n",
      "dtypes: float64(2), int64(5), object(5)\n",
      "memory usage: 83.7+ KB\n"
     ]
    }
   ],
   "source": [
    "# Tipos de datos que tiene nuestro dataset y que cantidad de nulos tiene (non-null -->no nulo)\n",
    "titanic.info()"
   ]
  },
  {
   "cell_type": "markdown",
   "metadata": {
    "id": "sk0svzyt12AS"
   },
   "source": [
    "## **¿Qué tipos de datos son nuestras columnas?**\n",
    "\n",
    "### **Categóricos**\n",
    "\n",
    "**Nominales:**\n",
    "* IdPasajero\n",
    "* Sobrevivio\n",
    "* Nombre\n",
    "* Genero\n",
    "* Tiquete\n",
    "* Cabina\n",
    "* Embarque\n",
    "\n",
    "**Ordinales**\n",
    "* Clase\n",
    "\n",
    "### **Numéricos**\n",
    "\n",
    "**Continuos:**\n",
    "  * Edad**\n",
    "  * Precio\n",
    "**Discretos:**\n",
    "  * HermEsp\n",
    "  * PadresHijos\n",
    "\n"
   ]
  },
  {
   "cell_type": "markdown",
   "metadata": {
    "id": "klrWPl31FHqV"
   },
   "source": [
    "### Conozcamos los niveles de las variables categóricas"
   ]
  },
  {
   "cell_type": "code",
   "execution_count": null,
   "metadata": {
    "colab": {
     "base_uri": "https://localhost:8080/"
    },
    "id": "3JFn5TC_3KT7",
    "outputId": "4d7877a4-b7d2-4088-9dfa-64ac62d5a236"
   },
   "outputs": [
    {
     "data": {
      "text/plain": [
       "0    549\n",
       "1    342\n",
       "Name: Sobrevivio, dtype: int64"
      ]
     },
     "execution_count": 32,
     "metadata": {
      "tags": []
     },
     "output_type": "execute_result"
    }
   ],
   "source": [
    "# Cuantos registros tenemos por categoria de la columna 'Sobrevivio' sin nulos\n",
    "titanic['Sobrevivio'].value_counts()"
   ]
  },
  {
   "cell_type": "code",
   "execution_count": null,
   "metadata": {
    "colab": {
     "base_uri": "https://localhost:8080/"
    },
    "id": "bxj1NYgGc04f",
    "outputId": "824f8572-43d0-409c-fbcc-b53b1a813073"
   },
   "outputs": [
    {
     "data": {
      "text/plain": [
       "3    491\n",
       "1    216\n",
       "2    184\n",
       "Name: Clase, dtype: int64"
      ]
     },
     "execution_count": 35,
     "metadata": {
      "tags": []
     },
     "output_type": "execute_result"
    }
   ],
   "source": [
    "# Cuantos registros tenemos por categoria de la columna 'Clase' sin nulos\n",
    "titanic['Clase'].value_counts()"
   ]
  },
  {
   "cell_type": "code",
   "execution_count": null,
   "metadata": {
    "colab": {
     "base_uri": "https://localhost:8080/"
    },
    "id": "5FBqUYUP3jn0",
    "outputId": "1acdd456-732e-4f63-f2fc-d4a6bf20bb13"
   },
   "outputs": [
    {
     "data": {
      "text/plain": [
       "male      577\n",
       "female    314\n",
       "Name: Genero, dtype: int64"
      ]
     },
     "execution_count": 36,
     "metadata": {
      "tags": []
     },
     "output_type": "execute_result"
    }
   ],
   "source": [
    "# Cuantos registros tenemos por categoria de la columna 'Genero' sin nulos\n",
    "titanic['Genero'].value_counts()"
   ]
  },
  {
   "cell_type": "code",
   "execution_count": null,
   "metadata": {
    "colab": {
     "base_uri": "https://localhost:8080/"
    },
    "id": "6eGGEc7Y5JqF",
    "outputId": "301f2044-7987-41fe-a1bf-9340d383f6ff"
   },
   "outputs": [
    {
     "data": {
      "text/plain": [
       "array([nan, 'C85', 'C123', 'E46', 'G6', 'C103', 'D56', 'A6',\n",
       "       'C23 C25 C27', 'B78', 'D33', 'B30', 'C52', 'B28', 'C83', 'F33',\n",
       "       'F G73', 'E31', 'A5', 'D10 D12', 'D26', 'C110', 'B58 B60', 'E101',\n",
       "       'F E69', 'D47', 'B86', 'F2', 'C2', 'E33', 'B19', 'A7', 'C49', 'F4',\n",
       "       'A32', 'B4', 'B80', 'A31', 'D36', 'D15', 'C93', 'C78', 'D35',\n",
       "       'C87', 'B77', 'E67', 'B94', 'C125', 'C99', 'C118', 'D7', 'A19',\n",
       "       'B49', 'D', 'C22 C26', 'C106', 'C65', 'E36', 'C54',\n",
       "       'B57 B59 B63 B66', 'C7', 'E34', 'C32', 'B18', 'C124', 'C91', 'E40',\n",
       "       'T', 'C128', 'D37', 'B35', 'E50', 'C82', 'B96 B98', 'E10', 'E44',\n",
       "       'A34', 'C104', 'C111', 'C92', 'E38', 'D21', 'E12', 'E63', 'A14',\n",
       "       'B37', 'C30', 'D20', 'B79', 'E25', 'D46', 'B73', 'C95', 'B38',\n",
       "       'B39', 'B22', 'C86', 'C70', 'A16', 'C101', 'C68', 'A10', 'E68',\n",
       "       'B41', 'A20', 'D19', 'D50', 'D9', 'A23', 'B50', 'A26', 'D48',\n",
       "       'E58', 'C126', 'B71', 'B51 B53 B55', 'D49', 'B5', 'B20', 'F G63',\n",
       "       'C62 C64', 'E24', 'C90', 'C45', 'E8', 'B101', 'D45', 'C46', 'D30',\n",
       "       'E121', 'D11', 'E77', 'F38', 'B3', 'D6', 'B82 B84', 'D17', 'A36',\n",
       "       'B102', 'B69', 'E49', 'C47', 'D28', 'E17', 'A24', 'C50', 'B42',\n",
       "       'C148'], dtype=object)"
      ]
     },
     "execution_count": 43,
     "metadata": {
      "tags": []
     },
     "output_type": "execute_result"
    }
   ],
   "source": [
    "# Cuantos registros tenemos por categoria de la columna 'Cabina' sin nulos\n",
    "titanic['Cabina'].unique()"
   ]
  },
  {
   "cell_type": "code",
   "execution_count": null,
   "metadata": {
    "colab": {
     "base_uri": "https://localhost:8080/"
    },
    "id": "7hoyznPP26S_",
    "outputId": "57acbeea-1f10-4233-a6f7-aef0facee27c"
   },
   "outputs": [
    {
     "data": {
      "text/plain": [
       "S    644\n",
       "C    168\n",
       "Q     77\n",
       "Name: Embarque, dtype: int64"
      ]
     },
     "execution_count": 12,
     "metadata": {
      "tags": []
     },
     "output_type": "execute_result"
    }
   ],
   "source": [
    "# Cuantos registros tenemos por categoria de la columna 'Embarque' sin nulos\n",
    "titanic['Embarque'].value_counts()"
   ]
  },
  {
   "cell_type": "code",
   "execution_count": null,
   "metadata": {
    "colab": {
     "base_uri": "https://localhost:8080/",
     "height": 173
    },
    "id": "n42B2qDSIT2V",
    "outputId": "a4878b30-d859-4e07-d570-75a7f38b350f"
   },
   "outputs": [
    {
     "data": {
      "text/html": [
       "<div>\n",
       "<style scoped>\n",
       "    .dataframe tbody tr th:only-of-type {\n",
       "        vertical-align: middle;\n",
       "    }\n",
       "\n",
       "    .dataframe tbody tr th {\n",
       "        vertical-align: top;\n",
       "    }\n",
       "\n",
       "    .dataframe thead th {\n",
       "        text-align: right;\n",
       "    }\n",
       "</style>\n",
       "<table border=\"1\" class=\"dataframe\">\n",
       "  <thead>\n",
       "    <tr style=\"text-align: right;\">\n",
       "      <th></th>\n",
       "      <th>Name</th>\n",
       "      <th>Sex</th>\n",
       "      <th>Ticket</th>\n",
       "      <th>Cabin</th>\n",
       "      <th>Embarked</th>\n",
       "    </tr>\n",
       "  </thead>\n",
       "  <tbody>\n",
       "    <tr>\n",
       "      <th>count</th>\n",
       "      <td>891</td>\n",
       "      <td>891</td>\n",
       "      <td>891</td>\n",
       "      <td>204</td>\n",
       "      <td>889</td>\n",
       "    </tr>\n",
       "    <tr>\n",
       "      <th>unique</th>\n",
       "      <td>891</td>\n",
       "      <td>2</td>\n",
       "      <td>681</td>\n",
       "      <td>147</td>\n",
       "      <td>3</td>\n",
       "    </tr>\n",
       "    <tr>\n",
       "      <th>top</th>\n",
       "      <td>Dowdell, Miss. Elizabeth</td>\n",
       "      <td>male</td>\n",
       "      <td>1601</td>\n",
       "      <td>C23 C25 C27</td>\n",
       "      <td>S</td>\n",
       "    </tr>\n",
       "    <tr>\n",
       "      <th>freq</th>\n",
       "      <td>1</td>\n",
       "      <td>577</td>\n",
       "      <td>7</td>\n",
       "      <td>4</td>\n",
       "      <td>644</td>\n",
       "    </tr>\n",
       "  </tbody>\n",
       "</table>\n",
       "</div>"
      ],
      "text/plain": [
       "                            Name   Sex Ticket        Cabin Embarked\n",
       "count                        891   891    891          204      889\n",
       "unique                       891     2    681          147        3\n",
       "top     Dowdell, Miss. Elizabeth  male   1601  C23 C25 C27        S\n",
       "freq                           1   577      7            4      644"
      ]
     },
     "execution_count": 48,
     "metadata": {
      "tags": []
     },
     "output_type": "execute_result"
    }
   ],
   "source": [
    "titanic.describe(include=['O'])"
   ]
  },
  {
   "cell_type": "markdown",
   "metadata": {
    "id": "bAnIao1kGJeS"
   },
   "source": [
    "### Conozcamos los posibles valores de las variables numéricos, para identificar si hay valores extraños"
   ]
  },
  {
   "cell_type": "code",
   "execution_count": null,
   "metadata": {
    "colab": {
     "base_uri": "https://localhost:8080/"
    },
    "id": "sI6w-lvcqNGu",
    "outputId": "e5ca6f31-2215-43dc-f5e7-33975906f37e"
   },
   "outputs": [
    {
     "data": {
      "text/plain": [
       "{0.42: 1,\n",
       " 0.67: 1,\n",
       " 0.75: 2,\n",
       " 0.83: 2,\n",
       " 0.92: 1,\n",
       " 1.0: 7,\n",
       " 2.0: 10,\n",
       " 3.0: 6,\n",
       " 4.0: 10,\n",
       " 5.0: 4,\n",
       " 6.0: 3,\n",
       " 7.0: 3,\n",
       " 8.0: 4,\n",
       " 9.0: 8,\n",
       " 10.0: 2,\n",
       " 11.0: 4,\n",
       " 12.0: 1,\n",
       " 13.0: 2,\n",
       " 14.0: 6,\n",
       " 14.5: 1,\n",
       " 15.0: 5,\n",
       " 16.0: 17,\n",
       " 17.0: 13,\n",
       " 18.0: 26,\n",
       " 19.0: 25,\n",
       " 20.0: 15,\n",
       " 20.5: 1,\n",
       " 21.0: 24,\n",
       " 22.0: 27,\n",
       " 23.0: 15,\n",
       " 23.5: 1,\n",
       " 24.0: 30,\n",
       " 24.5: 1,\n",
       " 25.0: 23,\n",
       " 26.0: 18,\n",
       " 27.0: 18,\n",
       " 28.0: 25,\n",
       " 28.5: 2,\n",
       " 29.0: 20,\n",
       " 30.0: 25,\n",
       " 30.5: 2,\n",
       " 31.0: 17,\n",
       " 32.0: 18,\n",
       " 32.5: 2,\n",
       " 33.0: 15,\n",
       " 34.0: 15,\n",
       " 34.5: 1,\n",
       " 35.0: 18,\n",
       " 36.0: 22,\n",
       " 36.5: 1,\n",
       " 37.0: 6,\n",
       " 38.0: 11,\n",
       " 39.0: 14,\n",
       " 40.0: 13,\n",
       " 40.5: 2,\n",
       " 41.0: 6,\n",
       " 42.0: 13,\n",
       " 43.0: 5,\n",
       " 44.0: 9,\n",
       " 45.0: 12,\n",
       " 45.5: 2,\n",
       " 46.0: 3,\n",
       " 47.0: 9,\n",
       " 48.0: 9,\n",
       " 49.0: 6,\n",
       " 50.0: 10,\n",
       " 51.0: 7,\n",
       " 52.0: 6,\n",
       " 53.0: 1,\n",
       " 54.0: 8,\n",
       " 55.0: 2,\n",
       " 55.5: 1,\n",
       " 56.0: 4,\n",
       " 57.0: 2,\n",
       " 58.0: 5,\n",
       " 59.0: 2,\n",
       " 60.0: 4,\n",
       " 61.0: 3,\n",
       " 62.0: 4,\n",
       " 63.0: 2,\n",
       " 64.0: 2,\n",
       " 65.0: 3,\n",
       " 66.0: 1,\n",
       " 70.0: 2,\n",
       " 70.5: 1,\n",
       " 71.0: 2,\n",
       " 74.0: 1,\n",
       " 80.0: 1}"
      ]
     },
     "execution_count": 110,
     "metadata": {
      "tags": []
     },
     "output_type": "execute_result"
    }
   ],
   "source": [
    "# Cuantos registros tenemos por categoria de la columna 'Edad' sin nulos\n",
    "titanic['Edad'].value_counts().sort_values().to_dict()"
   ]
  },
  {
   "cell_type": "code",
   "execution_count": null,
   "metadata": {
    "colab": {
     "base_uri": "https://localhost:8080/"
    },
    "id": "UIJjl9Fo4RJV",
    "outputId": "c80fba8f-f36a-4e42-d062-b4241611398b"
   },
   "outputs": [
    {
     "data": {
      "text/plain": [
       "0    608\n",
       "1    209\n",
       "2     28\n",
       "4     18\n",
       "3     16\n",
       "8      7\n",
       "5      5\n",
       "Name: HermEsp, dtype: int64"
      ]
     },
     "execution_count": 37,
     "metadata": {
      "tags": []
     },
     "output_type": "execute_result"
    }
   ],
   "source": [
    "# Cuantos registros tenemos por categoria de la columna 'HermEsp' sin nulos\n",
    "titanic['HermEsp'].value_counts()"
   ]
  },
  {
   "cell_type": "code",
   "execution_count": null,
   "metadata": {
    "colab": {
     "base_uri": "https://localhost:8080/"
    },
    "id": "7qcyJi1d4lUe",
    "outputId": "8b98890d-bd57-48cf-9d7e-1702ac57083c"
   },
   "outputs": [
    {
     "data": {
      "text/plain": [
       "0    678\n",
       "1    118\n",
       "2     80\n",
       "5      5\n",
       "3      5\n",
       "4      4\n",
       "6      1\n",
       "Name: PadresHijos, dtype: int64"
      ]
     },
     "execution_count": 38,
     "metadata": {
      "tags": []
     },
     "output_type": "execute_result"
    }
   ],
   "source": [
    "# Cuantos registros tenemos por categoria de la columna 'PadresHijos' sin nulos\n",
    "titanic['PadresHijos'].value_counts()"
   ]
  },
  {
   "cell_type": "code",
   "execution_count": null,
   "metadata": {
    "colab": {
     "base_uri": "https://localhost:8080/"
    },
    "id": "jsa5fUPIsHV4",
    "outputId": "87a6c885-6d0f-48c1-d10d-0139adf63a8b"
   },
   "outputs": [
    {
     "data": {
      "text/plain": [
       "{0.0: 15,\n",
       " 4.0125: 1,\n",
       " 5.0: 1,\n",
       " 6.2375: 1,\n",
       " 6.4375: 1,\n",
       " 6.45: 1,\n",
       " 6.4958: 2,\n",
       " 6.75: 2,\n",
       " 6.8583: 1,\n",
       " 6.95: 1,\n",
       " 6.975: 2,\n",
       " 7.0458: 1,\n",
       " 7.05: 7,\n",
       " 7.0542: 2,\n",
       " 7.125: 4,\n",
       " 7.1417: 1,\n",
       " 7.225: 12,\n",
       " 7.2292: 15,\n",
       " 7.25: 13,\n",
       " 7.3125: 1,\n",
       " 7.4958: 3,\n",
       " 7.5208: 1,\n",
       " 7.55: 4,\n",
       " 7.6292: 1,\n",
       " 7.65: 4,\n",
       " 7.725: 1,\n",
       " 7.7292: 1,\n",
       " 7.7333: 4,\n",
       " 7.7375: 2,\n",
       " 7.7417: 1,\n",
       " 7.75: 34,\n",
       " 7.775: 16,\n",
       " 7.7875: 1,\n",
       " 7.7958: 6,\n",
       " 7.8: 1,\n",
       " 7.8292: 2,\n",
       " 7.8542: 13,\n",
       " 7.875: 1,\n",
       " 7.8792: 4,\n",
       " 7.8875: 1,\n",
       " 7.8958: 38,\n",
       " 7.925: 18,\n",
       " 8.0292: 1,\n",
       " 8.05: 43,\n",
       " 8.1125: 1,\n",
       " 8.1375: 1,\n",
       " 8.1583: 1,\n",
       " 8.3: 1,\n",
       " 8.3625: 1,\n",
       " 8.4042: 1,\n",
       " 8.4333: 1,\n",
       " 8.4583: 1,\n",
       " 8.5167: 1,\n",
       " 8.6542: 1,\n",
       " 8.6625: 13,\n",
       " 8.6833: 1,\n",
       " 8.7125: 1,\n",
       " 8.85: 1,\n",
       " 9.0: 2,\n",
       " 9.2167: 1,\n",
       " 9.225: 2,\n",
       " 9.35: 2,\n",
       " 9.475: 1,\n",
       " 9.4833: 1,\n",
       " 9.5: 9,\n",
       " 9.5875: 2,\n",
       " 9.825: 2,\n",
       " 9.8375: 1,\n",
       " 9.8417: 1,\n",
       " 9.8458: 1,\n",
       " 10.1708: 1,\n",
       " 10.4625: 2,\n",
       " 10.5: 24,\n",
       " 10.5167: 1,\n",
       " 11.1333: 3,\n",
       " 11.2417: 2,\n",
       " 11.5: 4,\n",
       " 12.0: 1,\n",
       " 12.275: 1,\n",
       " 12.2875: 1,\n",
       " 12.35: 3,\n",
       " 12.475: 4,\n",
       " 12.525: 1,\n",
       " 12.65: 1,\n",
       " 12.875: 1,\n",
       " 13.0: 42,\n",
       " 13.4167: 1,\n",
       " 13.5: 4,\n",
       " 13.7917: 1,\n",
       " 13.8583: 1,\n",
       " 13.8625: 1,\n",
       " 14.0: 1,\n",
       " 14.1083: 1,\n",
       " 14.4: 2,\n",
       " 14.4542: 7,\n",
       " 14.4583: 3,\n",
       " 14.5: 7,\n",
       " 15.0: 1,\n",
       " 15.0458: 1,\n",
       " 15.05: 1,\n",
       " 15.1: 1,\n",
       " 15.2458: 5,\n",
       " 15.5: 8,\n",
       " 15.55: 1,\n",
       " 15.7417: 2,\n",
       " 15.75: 1,\n",
       " 15.85: 4,\n",
       " 15.9: 2,\n",
       " 16.0: 1,\n",
       " 16.1: 9,\n",
       " 16.7: 2,\n",
       " 17.4: 1,\n",
       " 17.8: 2,\n",
       " 18.0: 3,\n",
       " 18.75: 3,\n",
       " 18.7875: 2,\n",
       " 19.2583: 4,\n",
       " 19.5: 2,\n",
       " 19.9667: 2,\n",
       " 20.2125: 2,\n",
       " 20.25: 2,\n",
       " 20.525: 3,\n",
       " 20.575: 2,\n",
       " 21.0: 6,\n",
       " 21.075: 4,\n",
       " 21.6792: 1,\n",
       " 22.025: 1,\n",
       " 22.3583: 2,\n",
       " 22.525: 1,\n",
       " 23.0: 4,\n",
       " 23.25: 2,\n",
       " 23.45: 2,\n",
       " 24.0: 2,\n",
       " 24.15: 8,\n",
       " 25.4667: 4,\n",
       " 25.5875: 1,\n",
       " 25.925: 1,\n",
       " 25.9292: 2,\n",
       " 26.0: 31,\n",
       " 26.25: 6,\n",
       " 26.2833: 1,\n",
       " 26.2875: 3,\n",
       " 26.3875: 1,\n",
       " 26.55: 15,\n",
       " 27.0: 2,\n",
       " 27.7208: 5,\n",
       " 27.75: 4,\n",
       " 27.9: 6,\n",
       " 28.5: 1,\n",
       " 28.7125: 1,\n",
       " 29.0: 2,\n",
       " 29.125: 5,\n",
       " 29.7: 3,\n",
       " 30.0: 6,\n",
       " 30.0708: 2,\n",
       " 30.5: 5,\n",
       " 30.6958: 2,\n",
       " 31.0: 3,\n",
       " 31.275: 7,\n",
       " 31.3875: 4,\n",
       " 32.3208: 1,\n",
       " 32.5: 1,\n",
       " 33.0: 3,\n",
       " 33.5: 1,\n",
       " 34.0208: 1,\n",
       " 34.375: 4,\n",
       " 34.6542: 1,\n",
       " 35.0: 1,\n",
       " 35.5: 4,\n",
       " 36.75: 2,\n",
       " 37.0042: 2,\n",
       " 38.5: 1,\n",
       " 39.0: 4,\n",
       " 39.4: 1,\n",
       " 39.6: 2,\n",
       " 39.6875: 6,\n",
       " 40.125: 1,\n",
       " 41.5792: 3,\n",
       " 42.4: 1,\n",
       " 46.9: 6,\n",
       " 47.1: 1,\n",
       " 49.5: 1,\n",
       " 49.5042: 2,\n",
       " 50.0: 1,\n",
       " 50.4958: 1,\n",
       " 51.4792: 1,\n",
       " 51.8625: 2,\n",
       " 52.0: 7,\n",
       " 52.5542: 3,\n",
       " 53.1: 5,\n",
       " 55.0: 2,\n",
       " 55.4417: 1,\n",
       " 55.9: 2,\n",
       " 56.4958: 7,\n",
       " 56.9292: 2,\n",
       " 57.0: 2,\n",
       " 57.9792: 2,\n",
       " 59.4: 1,\n",
       " 61.175: 1,\n",
       " 61.3792: 1,\n",
       " 61.9792: 1,\n",
       " 63.3583: 1,\n",
       " 65.0: 2,\n",
       " 66.6: 2,\n",
       " 69.3: 2,\n",
       " 69.55: 7,\n",
       " 71.0: 2,\n",
       " 71.2833: 1,\n",
       " 73.5: 5,\n",
       " 75.25: 1,\n",
       " 76.2917: 1,\n",
       " 76.7292: 3,\n",
       " 77.2875: 2,\n",
       " 77.9583: 3,\n",
       " 78.2667: 2,\n",
       " 78.85: 2,\n",
       " 79.2: 4,\n",
       " 79.65: 3,\n",
       " 80.0: 2,\n",
       " 81.8583: 1,\n",
       " 82.1708: 2,\n",
       " 83.1583: 3,\n",
       " 83.475: 2,\n",
       " 86.5: 3,\n",
       " 89.1042: 2,\n",
       " 90.0: 4,\n",
       " 91.0792: 2,\n",
       " 93.5: 2,\n",
       " 106.425: 2,\n",
       " 108.9: 2,\n",
       " 110.8833: 4,\n",
       " 113.275: 3,\n",
       " 120.0: 4,\n",
       " 133.65: 2,\n",
       " 134.5: 2,\n",
       " 135.6333: 3,\n",
       " 146.5208: 2,\n",
       " 151.55: 4,\n",
       " 153.4625: 3,\n",
       " 164.8667: 2,\n",
       " 211.3375: 3,\n",
       " 211.5: 1,\n",
       " 221.7792: 1,\n",
       " 227.525: 4,\n",
       " 247.5208: 2,\n",
       " 262.375: 2,\n",
       " 263.0: 4,\n",
       " 512.3292: 3}"
      ]
     },
     "execution_count": 40,
     "metadata": {
      "tags": []
     },
     "output_type": "execute_result"
    }
   ],
   "source": [
    "# Cuantos registros tenemos por categoria de la columna 'Precio' sin nulos\n",
    "titanic['Precio'].value_counts().sort_values().to_dict()"
   ]
  },
  {
   "cell_type": "markdown",
   "metadata": {
    "id": "I9cozDzg4zXB"
   },
   "source": [
    "# Medidas de tendencia central\n",
    "\n",
    "\n",
    "*   Moda\n",
    "*   Media\n",
    "*   Mediana\n",
    "\n"
   ]
  },
  {
   "cell_type": "markdown",
   "metadata": {
    "id": "V06Fi8Pu5Z9z"
   },
   "source": [
    "# Medidas de dispercion\n",
    "\n",
    "\n",
    "*   Desviación estándar\n",
    "*   Varianza\n",
    "*   Rango intercuantil\n",
    "\n"
   ]
  },
  {
   "cell_type": "code",
   "execution_count": null,
   "metadata": {
    "colab": {
     "base_uri": "https://localhost:8080/",
     "height": 297
    },
    "id": "n7tIpvSv0IbQ",
    "outputId": "fd5d1f45-f122-4802-c485-66056cc2790f"
   },
   "outputs": [
    {
     "data": {
      "text/html": [
       "<div>\n",
       "<style scoped>\n",
       "    .dataframe tbody tr th:only-of-type {\n",
       "        vertical-align: middle;\n",
       "    }\n",
       "\n",
       "    .dataframe tbody tr th {\n",
       "        vertical-align: top;\n",
       "    }\n",
       "\n",
       "    .dataframe thead th {\n",
       "        text-align: right;\n",
       "    }\n",
       "</style>\n",
       "<table border=\"1\" class=\"dataframe\">\n",
       "  <thead>\n",
       "    <tr style=\"text-align: right;\">\n",
       "      <th></th>\n",
       "      <th>IdPasajero</th>\n",
       "      <th>Sobrevivio</th>\n",
       "      <th>Clase</th>\n",
       "      <th>Edad</th>\n",
       "      <th>HermEsp</th>\n",
       "      <th>PadresHijos</th>\n",
       "      <th>Precio</th>\n",
       "    </tr>\n",
       "  </thead>\n",
       "  <tbody>\n",
       "    <tr>\n",
       "      <th>count</th>\n",
       "      <td>891.000000</td>\n",
       "      <td>891.000000</td>\n",
       "      <td>891.000000</td>\n",
       "      <td>714.000000</td>\n",
       "      <td>891.000000</td>\n",
       "      <td>891.000000</td>\n",
       "      <td>891.000000</td>\n",
       "    </tr>\n",
       "    <tr>\n",
       "      <th>mean</th>\n",
       "      <td>446.000000</td>\n",
       "      <td>0.383838</td>\n",
       "      <td>2.308642</td>\n",
       "      <td>29.699118</td>\n",
       "      <td>0.523008</td>\n",
       "      <td>0.381594</td>\n",
       "      <td>32.204208</td>\n",
       "    </tr>\n",
       "    <tr>\n",
       "      <th>std</th>\n",
       "      <td>257.353842</td>\n",
       "      <td>0.486592</td>\n",
       "      <td>0.836071</td>\n",
       "      <td>14.526497</td>\n",
       "      <td>1.102743</td>\n",
       "      <td>0.806057</td>\n",
       "      <td>49.693429</td>\n",
       "    </tr>\n",
       "    <tr>\n",
       "      <th>min</th>\n",
       "      <td>1.000000</td>\n",
       "      <td>0.000000</td>\n",
       "      <td>1.000000</td>\n",
       "      <td>0.420000</td>\n",
       "      <td>0.000000</td>\n",
       "      <td>0.000000</td>\n",
       "      <td>0.000000</td>\n",
       "    </tr>\n",
       "    <tr>\n",
       "      <th>25%</th>\n",
       "      <td>223.500000</td>\n",
       "      <td>0.000000</td>\n",
       "      <td>2.000000</td>\n",
       "      <td>20.125000</td>\n",
       "      <td>0.000000</td>\n",
       "      <td>0.000000</td>\n",
       "      <td>7.910400</td>\n",
       "    </tr>\n",
       "    <tr>\n",
       "      <th>50%</th>\n",
       "      <td>446.000000</td>\n",
       "      <td>0.000000</td>\n",
       "      <td>3.000000</td>\n",
       "      <td>28.000000</td>\n",
       "      <td>0.000000</td>\n",
       "      <td>0.000000</td>\n",
       "      <td>14.454200</td>\n",
       "    </tr>\n",
       "    <tr>\n",
       "      <th>75%</th>\n",
       "      <td>668.500000</td>\n",
       "      <td>1.000000</td>\n",
       "      <td>3.000000</td>\n",
       "      <td>38.000000</td>\n",
       "      <td>1.000000</td>\n",
       "      <td>0.000000</td>\n",
       "      <td>31.000000</td>\n",
       "    </tr>\n",
       "    <tr>\n",
       "      <th>max</th>\n",
       "      <td>891.000000</td>\n",
       "      <td>1.000000</td>\n",
       "      <td>3.000000</td>\n",
       "      <td>80.000000</td>\n",
       "      <td>8.000000</td>\n",
       "      <td>6.000000</td>\n",
       "      <td>512.329200</td>\n",
       "    </tr>\n",
       "  </tbody>\n",
       "</table>\n",
       "</div>"
      ],
      "text/plain": [
       "       IdPasajero  Sobrevivio       Clase  ...     HermEsp  PadresHijos      Precio\n",
       "count  891.000000  891.000000  891.000000  ...  891.000000   891.000000  891.000000\n",
       "mean   446.000000    0.383838    2.308642  ...    0.523008     0.381594   32.204208\n",
       "std    257.353842    0.486592    0.836071  ...    1.102743     0.806057   49.693429\n",
       "min      1.000000    0.000000    1.000000  ...    0.000000     0.000000    0.000000\n",
       "25%    223.500000    0.000000    2.000000  ...    0.000000     0.000000    7.910400\n",
       "50%    446.000000    0.000000    3.000000  ...    0.000000     0.000000   14.454200\n",
       "75%    668.500000    1.000000    3.000000  ...    1.000000     0.000000   31.000000\n",
       "max    891.000000    1.000000    3.000000  ...    8.000000     6.000000  512.329200\n",
       "\n",
       "[8 rows x 7 columns]"
      ]
     },
     "execution_count": 159,
     "metadata": {
      "tags": []
     },
     "output_type": "execute_result"
    }
   ],
   "source": [
    "# Resumen de las columnas numericas\n",
    "titanic.describe()"
   ]
  },
  {
   "cell_type": "code",
   "execution_count": null,
   "metadata": {
    "colab": {
     "base_uri": "https://localhost:8080/"
    },
    "id": "s1ie0hpCWw5W",
    "outputId": "feeee17f-68ec-42fc-cbdd-95626e09879e"
   },
   "outputs": [
    {
     "name": "stdout",
     "output_type": "stream",
     "text": [
      "media de edad 29.69911764705882\n",
      "mediana de edad 28.0\n",
      "moda de edad [24.]\n",
      "media de precio 32.2042079685746\n",
      "mediana de precio 14.4542\n",
      "moda de precio [8.05]\n"
     ]
    }
   ],
   "source": [
    "print('media de edad'+' ' +str(np.mean(titanic['Edad'])))\n",
    "print('mediana de edad'+' ' +str(np.median(titanic['Edad'].dropna().tolist())))\n",
    "print('moda de edad'+' ' +str(stats.mode(titanic['Edad'])[0]))\n",
    "\n",
    "print('media de precio'+' ' +str(np.mean(titanic['Precio'])))\n",
    "print('mediana de precio'+' ' +str(np.median(titanic['Precio'].dropna().tolist())))\n",
    "print('moda de precio'+' ' +str(stats.mode(titanic['Precio'])[0]))\n",
    "\n"
   ]
  },
  {
   "cell_type": "code",
   "execution_count": null,
   "metadata": {
    "colab": {
     "base_uri": "https://localhost:8080/"
    },
    "id": "24B1_V9zQVi-",
    "outputId": "201667a5-dda3-4f96-f5e8-b7183620af4a"
   },
   "outputs": [
    {
     "name": "stdout",
     "output_type": "stream",
     "text": [
      "IQR Edad con stats 34.0\n",
      "IQR Edad con numpy 34.0\n"
     ]
    }
   ],
   "source": [
    "# Rango Intercuartil con stats\n",
    "IQR_stats = stats.iqr(titanic['Edad'].value_counts().index.to_list(), interpolation = 'midpoint')\n",
    "\n",
    "\n",
    "# First quartile (Q1)\n",
    "Q1 = np.percentile(titanic['Edad'].value_counts().index.to_list(), 25, interpolation = 'midpoint')\n",
    "  \n",
    "# Third quartile (Q3)\n",
    "Q3 = np.percentile(titanic['Edad'].value_counts().index.to_list(), 75, interpolation = 'midpoint')\n",
    "  \n",
    "# Interquaritle range (IQR)\n",
    "IQR_np = Q3 - Q1\n",
    "print(\"IQR Edad con stats\"+\" \"+ str(IQR_stats))\n",
    "print(\"IQR Edad con numpy\"+\" \"+ str(IQR_np))"
   ]
  },
  {
   "cell_type": "code",
   "execution_count": null,
   "metadata": {
    "id": "AhyqzupWazSK"
   },
   "outputs": [],
   "source": [
    "# ¿Qué pasa si agregamos otro registro?\n",
    "\n",
    "\n",
    "nueva_fila ={'IdPasajero':[892],'Sobrevivio':[1],'Clase':[1],'Nombre':['Wadr.MissAnne'],\\\n",
    "             'Genero':['female'],'Edad':[35],'HermEsp':[0],'PadresHijos':[0],'Tiquete':['PC17755'],\\\n",
    "             'Precio':[5123292000],'Cabina':['A20'],'Embarque':['C']}\n",
    "df2 = pd.DataFrame.from_dict(nueva_fila)\n",
    "new_df = titanic.append(df2,ignore_index=True)\n",
    "\n"
   ]
  },
  {
   "cell_type": "code",
   "execution_count": null,
   "metadata": {
    "colab": {
     "base_uri": "https://localhost:8080/"
    },
    "id": "D4_EYdqri9Ff",
    "outputId": "d5c3c069-b223-4635-cd08-c849c31cf723"
   },
   "outputs": [
    {
     "name": "stdout",
     "output_type": "stream",
     "text": [
      "nueva media de Precio 5743633.065\n",
      "nueva mediana de Precio 14.4542\n"
     ]
    }
   ],
   "source": [
    "\n",
    "print('nueva media de Precio'+' ' +str(round(np.mean(new_df['Precio']),4)))\n",
    "print('nueva mediana de Precio'+' ' +str(round(np.median(new_df['Precio']),4)))\n"
   ]
  },
  {
   "cell_type": "markdown",
   "metadata": {
    "id": "9seAiDd68NTQ"
   },
   "source": [
    "# Gráficos"
   ]
  },
  {
   "cell_type": "markdown",
   "metadata": {
    "id": "pdvH2yE_lab4"
   },
   "source": [
    " **Variables Categóricas** "
   ]
  },
  {
   "cell_type": "code",
   "execution_count": null,
   "metadata": {
    "colab": {
     "base_uri": "https://localhost:8080/",
     "height": 350
    },
    "id": "TRyLZWZKO4Va",
    "outputId": "a9d35ea2-c416-49e6-a8a8-4a5e48b37c29"
   },
   "outputs": [
    {
     "data": {
      "image/png": "[encoded data removed]",
      "text/plain": [
       "<Figure size 1080x360 with 2 Axes>"
      ]
     },
     "metadata": {
      "tags": []
     },
     "output_type": "display_data"
    }
   ],
   "source": [
    "figure,axis = plt.subplots(1,2,figsize=(15,5))\n",
    "titanic.Genero.value_counts().plot(kind = 'pie', autopct='%1.1f%%',shadow=False, \\\n",
    "                                ax=axis[0], legend = False, fontsize=11, \\\n",
    "                                colors = ['c', 'g'],explode=[0.1,0])\n",
    "axis[0].set_title('Distribución de pasajeros por Genero')\n",
    "sns.countplot('Clase',data=titanic,ax=axis[1])\n",
    "axis[1].set_title('Pasajeros por Clase')\n",
    "plt.show()"
   ]
  },
  {
   "cell_type": "code",
   "execution_count": null,
   "metadata": {
    "colab": {
     "base_uri": "https://localhost:8080/",
     "height": 396
    },
    "id": "y_hCUAJ9mTWN",
    "outputId": "5eebaa89-2cab-4ab7-adcb-0c97ae7ec91c"
   },
   "outputs": [
    {
     "data": {
      "image/png": "[encoded data removed]",
      "text/plain": [
       "<Figure size 1500x500 with 2 Axes>"
      ]
     },
     "metadata": {
      "tags": []
     },
     "output_type": "display_data"
    }
   ],
   "source": [
    "figure,axis = plt.subplots(1,2,figsize=(15,5))\n",
    "titanic.Clase.value_counts().plot.pie(autopct='%1.1f%%',shadow=False, \\\n",
    "                                ax=axis[0], legend = False, fontsize=11, \\\n",
    "                                colors = ['c', 'g','y'])\n",
    "axis[0].set_title('Distribución de pasajeros por Clase')\n",
    "titanic.Sobrevivio.value_counts().plot.pie(autopct='%1.1f%%',shadow=False, \\\n",
    "                                ax=axis[1], legend = False, fontsize=11)\n",
    "axis[1].set_title('Porcentaje de personas fallecidas y sobrevivientes')\n",
    "plt.show()"
   ]
  },
  {
   "cell_type": "markdown",
   "metadata": {
    "id": "qp9T0reIqtS-"
   },
   "source": [
    " **Variables Numéricas Continuas** "
   ]
  },
  {
   "cell_type": "code",
   "execution_count": null,
   "metadata": {
    "colab": {
     "base_uri": "https://localhost:8080/",
     "height": 295
    },
    "id": "FcjkiShH-Cwo",
    "outputId": "3a95d43b-5586-4419-e003-af35ff4c9e4b"
   },
   "outputs": [
    {
     "data": {
      "image/png": "[encoded data removed]",
      "text/plain": [
       "<Figure size 432x288 with 1 Axes>"
      ]
     },
     "metadata": {
      "needs_background": "light",
      "tags": []
     },
     "output_type": "display_data"
    }
   ],
   "source": [
    "ax = sns.boxplot(x=\"Edad\",data=titanic, palette=\"Set3\").set_title('Diagrama de caja variable Edad')"
   ]
  },
  {
   "cell_type": "code",
   "execution_count": null,
   "metadata": {
    "colab": {
     "base_uri": "https://localhost:8080/",
     "height": 312
    },
    "id": "07wd3azwDiUi",
    "outputId": "c9e0f2f2-00a3-4efa-e29c-887ed3e9dabc"
   },
   "outputs": [
    {
     "data": {
      "text/plain": [
       "Text(0.5, 1.0, 'Distribución variable Edad')"
      ]
     },
     "execution_count": 16,
     "metadata": {
      "tags": []
     },
     "output_type": "execute_result"
    },
    {
     "data": {
      "image/png": "[encoded data removed]",
      "text/plain": [
       "<Figure size 432x288 with 1 Axes>"
      ]
     },
     "metadata": {
      "needs_background": "light",
      "tags": []
     },
     "output_type": "display_data"
    }
   ],
   "source": [
    "sns.distplot(titanic['Edad']).set_title('Distribución variable Edad')\n"
   ]
  },
  {
   "cell_type": "code",
   "execution_count": null,
   "metadata": {
    "colab": {
     "base_uri": "https://localhost:8080/",
     "height": 295
    },
    "id": "cLJJzCmkAxJF",
    "outputId": "af57c09a-e5da-45d0-ba9a-675020f57015"
   },
   "outputs": [
    {
     "data": {
      "image/png": "[encoded data removed]",
      "text/plain": [
       "<Figure size 432x288 with 1 Axes>"
      ]
     },
     "metadata": {
      "needs_background": "light",
      "tags": []
     },
     "output_type": "display_data"
    }
   ],
   "source": [
    "ax = sns.boxplot(x=\"Precio\",data=titanic, palette=\"Set3\").set_title('Diagrama de caja variable Precio')"
   ]
  },
  {
   "cell_type": "code",
   "execution_count": null,
   "metadata": {
    "colab": {
     "base_uri": "https://localhost:8080/",
     "height": 545
    },
    "id": "X5S_DkhV7L0Z",
    "outputId": "ceff6c3e-a4c6-4fec-e295-a0dd5cebef81"
   },
   "outputs": [
    {
     "data": {
      "text/plain": [
       "Text(0.5, 1.0, 'Distribución variable Precio')"
      ]
     },
     "execution_count": 176,
     "metadata": {
      "tags": []
     },
     "output_type": "execute_result"
    },
    {
     "data": {
      "image/png": "[encoded data removed]",
      "text/plain": [
       "<Figure size 800x550 with 1 Axes>"
      ]
     },
     "metadata": {
      "tags": []
     },
     "output_type": "display_data"
    }
   ],
   "source": [
    "sns.distplot(titanic['Precio']).set_title('Distribución variable Precio')"
   ]
  },
  {
   "cell_type": "markdown",
   "metadata": {
    "id": "Yk6khrOOsq06"
   },
   "source": [
    "**¿Cómo cambian las gráficas con el nuevo registro que agregamos?**"
   ]
  },
  {
   "cell_type": "code",
   "execution_count": null,
   "metadata": {
    "colab": {
     "base_uri": "https://localhost:8080/",
     "height": 528
    },
    "id": "o7PEUqE1tW_A",
    "outputId": "a5caa6e4-2ab5-4be8-adac-7f13ac4b9269"
   },
   "outputs": [
    {
     "data": {
      "image/png": "[encoded data removed]",
      "text/plain": [
       "<Figure size 800x550 with 1 Axes>"
      ]
     },
     "metadata": {
      "tags": []
     },
     "output_type": "display_data"
    }
   ],
   "source": [
    "ax = sns.boxplot(x=\"Precio\",data=new_df,palette=\"Set3\").set_title('nuevo diagrama de caja variable precio')"
   ]
  },
  {
   "cell_type": "code",
   "execution_count": null,
   "metadata": {
    "colab": {
     "base_uri": "https://localhost:8080/",
     "height": 545
    },
    "id": "JLCEtE6vvwGL",
    "outputId": "74898779-2d73-44a4-c546-c39480bcc898"
   },
   "outputs": [
    {
     "data": {
      "text/plain": [
       "Text(0.5, 1.0, 'Nueva Distribución variable Precio')"
      ]
     },
     "execution_count": 177,
     "metadata": {
      "tags": []
     },
     "output_type": "execute_result"
    },
    {
     "data": {
      "image/png": "[encoded data removed]",
      "text/plain": [
       "<Figure size 800x550 with 1 Axes>"
      ]
     },
     "metadata": {
      "tags": []
     },
     "output_type": "display_data"
    }
   ],
   "source": [
    "sns.distplot(new_df['Precio']).set_title('Nueva Distribución variable Precio')"
   ]
  },
  {
   "cell_type": "markdown",
   "metadata": {
    "id": "VL0NKJ6PrAXM"
   },
   "source": [
    " **Variables Numericas discretas** "
   ]
  },
  {
   "cell_type": "code",
   "execution_count": null,
   "metadata": {
    "colab": {
     "base_uri": "https://localhost:8080/",
     "height": 446
    },
    "id": "juoca2l2_6ke",
    "outputId": "56dec936-2535-48a6-d983-83aedbc17ba2"
   },
   "outputs": [
    {
     "data": {
      "image/png": "[encoded data removed]",
      "text/plain": [
       "<Figure size 1080x504 with 2 Axes>"
      ]
     },
     "metadata": {
      "needs_background": "light",
      "tags": []
     },
     "output_type": "display_data"
    }
   ],
   "source": [
    "(figure, axis) = plt.subplots(nrows=1 , ncols=2, figsize=(15,7))\n",
    "ax = axis.flat\n",
    "discretas = ['HermEsp','PadresHijos']\n",
    "\n",
    "sns.set_style(\"darkgrid\")\n",
    "for i in range(len(discretas)):\n",
    "    sns.countplot(x = discretas[i],data=titanic,ax= ax[i],palette=\"Set2\")\n",
    "    ax[i].set_title('Frecuencia variable '+ discretas[i], fontsize = 16)\n",
    "    ax[i].set_ylabel('')\n",
    "    ax[i].set_xlabel('');\n"
   ]
  }
 ],
 "metadata": {
  "colab": {
   "include_colab_link": true,
   "name": "Fundamentos Estadística.ipynb",
   "provenance": [],
   "toc_visible": true
  },
  "kernelspec": {
   "display_name": "Python 3 (ipykernel)",
   "language": "python",
   "name": "python3"
  },
  "language_info": {
   "codemirror_mode": {
    "name": "ipython",
    "version": 3
   },
   "file_extension": ".py",
   "mimetype": "text/x-python",
   "name": "python",
   "nbconvert_exporter": "python",
   "pygments_lexer": "ipython3",
   "version": "3.9.7"
  }
 },
 "nbformat": 4,
 "nbformat_minor": 1
}
